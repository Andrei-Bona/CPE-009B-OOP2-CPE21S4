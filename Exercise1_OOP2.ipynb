{
  "nbformat": 4,
  "nbformat_minor": 0,
  "metadata": {
    "colab": {
      "provenance": [],
      "authorship_tag": "ABX9TyOf812PV5SiZfwLkv1Ye706",
      "include_colab_link": true
    },
    "kernelspec": {
      "name": "python3",
      "display_name": "Python 3"
    },
    "language_info": {
      "name": "python"
    }
  },
  "cells": [
    {
      "cell_type": "markdown",
      "metadata": {
        "id": "view-in-github",
        "colab_type": "text"
      },
      "source": [
        "<a href=\"https://colab.research.google.com/github/Andrei-Bona/CPE009B-OOP2-CPE21S4/blob/main/Exercise1_OOP2.ipynb\" target=\"_parent\"><img src=\"https://colab.research.google.com/assets/colab-badge.svg\" alt=\"Open In Colab\"/></a>"
      ]
    },
    {
      "cell_type": "code",
      "execution_count": 43,
      "metadata": {
        "colab": {
          "base_uri": "https://localhost:8080/"
        },
        "id": "37NVqAt1FcFw",
        "outputId": "f8ed100f-3eac-4563-d6d4-c0b13d6789b5"
      },
      "outputs": [
        {
          "output_type": "stream",
          "name": "stdout",
          "text": [
            "My name is Andrei and with an age of 19 and birthdate of Jan 01, 2005\n",
            "My name is John and with an age of 19 and birthdate of Jan 02, 2005\n"
          ]
        }
      ],
      "source": [
        "class Person: #superclass constructor\n",
        "  def __init__(self, name, age, birthdate, student_number, year_level, program): #defining attributes and identity\n",
        "    self.name = name\n",
        "    self.age = age\n",
        "    self.birthdate = birthdate\n",
        "\n",
        "  def person_attribute(self): #method constructor\n",
        "    return f\"My name is {self.name} and with an age of {self.age} and birthdate of {self.birthdate}\"\n",
        "\n",
        "class Teacher(Person): #subclass constructor\n",
        "  pass\n",
        "class Student(Person): #subclass constructor\n",
        "  pass\n",
        "\n",
        "#object instantiation\n",
        "person = Person('Andrei', 19, 'Jan 01, 2005', '','','') #behavior/instance of a class\n",
        "print(person.person_attribute())\n",
        "student = Student('John', 19, 'Jan 02, 2005','','','')\n",
        "print(student.person_attribute())\n",
        "\n",
        "\n",
        "\n",
        "#print([person1.name, person1.age, person1.birthdate])"
      ]
    },
    {
      "cell_type": "code",
      "source": [
        "teacher = Teacher(\"Mike\", 24, \"Jan 03, 2000\")\n",
        "print(teacher.person_attribute())"
      ],
      "metadata": {
        "colab": {
          "base_uri": "https://localhost:8080/"
        },
        "id": "fo8Q8Id7QpC_",
        "outputId": "243ce282-3b98-4775-ae7c-d23e22cb519c"
      },
      "execution_count": 37,
      "outputs": [
        {
          "output_type": "stream",
          "name": "stdout",
          "text": [
            "My name is Mike and with an age of 24 and birthdate of Jan 03, 2000\n"
          ]
        }
      ]
    },
    {
      "cell_type": "markdown",
      "source": [
        "Challenging Python Program Problem:\n",
        "\n",
        "*Create a python program that has the following:\n",
        "\n",
        "1. superclass named as Shapes\n",
        "2. subclasses: Rectangle, Square\n",
        "3. Method: Perimeter(), Area()\n",
        "4. Object name: rectangle, square\n",
        "5. Inherits the attributes of superclass Shapes, self.side = side"
      ],
      "metadata": {
        "id": "9LWDQaG2S-cf"
      }
    },
    {
      "cell_type": "code",
      "source": [
        "#1. superclass named as Shapes\n",
        "class Shapes:\n",
        "  def __init__(self, length = 0, width = 0, side = 0):\n",
        "    #5. Inherits the attributes of superclass Shapes\n",
        "    self.length = length\n",
        "    self.width = width\n",
        "    self.side = side\n",
        "#3. Method: Perimeter(), Area()\n",
        "  def Perimeter_rec(self):\n",
        "    return (self.length + self.width) * 2\n",
        "  def Area_rec(self):\n",
        "    return self.length * self.width\n",
        "\n",
        "  def Perimeter_squ(self):\n",
        "    return (self.side * 4)\n",
        "  def Area_squ(self):\n",
        "    return self.side**2\n",
        "\n",
        "#2. subclasses: Rectangle, Square\n",
        "class Rectangle(Shapes):\n",
        "  pass\n",
        "class Square(Shapes):\n",
        "  pass\n",
        "\n",
        "#4. Object name: rectangle, square\n",
        "rectangle = Rectangle(2, 2)\n",
        "square = Square(0,0,2)\n",
        "\n",
        "print(\"Perimeter of Rectangle:\", rectangle.Perimeter_rec())\n",
        "print(\"Area of Rectangle:\", rectangle.Area_rec())\n",
        "\n",
        "print(\"Perimeter of Square:\", square.Perimeter_squ())\n",
        "print(\"Area of Square:\", square.Area_squ())\n",
        "\n",
        "\n",
        "\n",
        ""
      ],
      "metadata": {
        "colab": {
          "base_uri": "https://localhost:8080/"
        },
        "id": "DubF5Q8cTxVg",
        "outputId": "11b0a2d2-cc26-4de0-e4a7-0622c4884a42"
      },
      "execution_count": 81,
      "outputs": [
        {
          "output_type": "stream",
          "name": "stdout",
          "text": [
            "Perimeter of Rectangle: 8\n",
            "Area of Rectangle: 4\n",
            "Perimeter of Square: 8\n",
            "Area of Square: 4\n"
          ]
        }
      ]
    }
  ]
}